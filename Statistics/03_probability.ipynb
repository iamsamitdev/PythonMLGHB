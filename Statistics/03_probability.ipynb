{
 "cells": [
  {
   "cell_type": "markdown",
   "metadata": {},
   "source": [
    "#### 1. import lib numpy"
   ]
  },
  {
   "cell_type": "code",
   "execution_count": 137,
   "metadata": {},
   "outputs": [],
   "source": [
    "import numpy as np"
   ]
  },
  {
   "cell_type": "markdown",
   "metadata": {},
   "source": [
    "#### 2. ตัวอย่างการโยนเหรียญ 10 ครั้ง แล้วได้หัวหรือก้อยกี่ครั้ง"
   ]
  },
  {
   "cell_type": "code",
   "execution_count": 138,
   "metadata": {},
   "outputs": [
    {
     "name": "stdout",
     "output_type": "stream",
     "text": [
      "['Tails' 'Tails' 'Heads' 'Tails' 'Tails' 'Heads' 'Tails' 'Tails' 'Heads'\n",
      " 'Tails']\n"
     ]
    }
   ],
   "source": [
    "flips = np.random.choice(['Heads', 'Tails'], size=10)\n",
    "print(flips)"
   ]
  },
  {
   "cell_type": "markdown",
   "metadata": {},
   "source": [
    "#### 3.ตัวอย่างการทอยลูกเต๋า 5 ครั้ง จำนวน 1, 2, 3 ลูก"
   ]
  },
  {
   "cell_type": "code",
   "execution_count": 140,
   "metadata": {},
   "outputs": [
    {
     "name": "stdout",
     "output_type": "stream",
     "text": [
      "[2, 1, 1, 4, 6]\n",
      "[[1, 1], [3, 4], [3, 6], [4, 4], [2, 2]]\n",
      "[[5, 2, 4], [3, 5, 5], [5, 6, 3], [6, 6, 2], [1, 4, 3]]\n"
     ]
    }
   ],
   "source": [
    "import random\n",
    "\n",
    "# roll a dice 5 times\n",
    "rolls = [random.randint(1, 6) for _ in range(5)]\n",
    "print(rolls)\n",
    "\n",
    "# roll 2 dice 5 times\n",
    "rolls = [[random.randint(1, 6) for _ in range(2)] for _ in range(5)]\n",
    "print(rolls)\n",
    "\n",
    "# roll 3 dice 5 times\n",
    "rolls = [[random.randint(1, 6) for _ in range(3)] for _ in range(5)]\n",
    "print(rolls)\n"
   ]
  }
 ],
 "metadata": {
  "kernelspec": {
   "display_name": "Python 3",
   "language": "python",
   "name": "python3"
  },
  "language_info": {
   "codemirror_mode": {
    "name": "ipython",
    "version": 3
   },
   "file_extension": ".py",
   "mimetype": "text/x-python",
   "name": "python",
   "nbconvert_exporter": "python",
   "pygments_lexer": "ipython3",
   "version": "3.11.6"
  }
 },
 "nbformat": 4,
 "nbformat_minor": 2
}
