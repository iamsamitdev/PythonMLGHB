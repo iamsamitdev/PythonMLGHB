{
 "cells": [
  {
   "cell_type": "markdown",
   "metadata": {},
   "source": [
    "#### 1. ติดตั้ง lib numpy สำหรับการใช้งานทาง statistical"
   ]
  },
  {
   "cell_type": "code",
   "execution_count": 6,
   "metadata": {},
   "outputs": [
    {
     "name": "stdout",
     "output_type": "stream",
     "text": [
      "Collecting numpy\n",
      "  Downloading numpy-1.26.2-cp311-cp311-macosx_11_0_arm64.whl.metadata (115 kB)\n",
      "\u001b[2K     \u001b[90m━━━━━━━━━━━━━━━━━━━━━━━━━━━━━━━━━━━━━\u001b[0m \u001b[32m115.1/115.1 kB\u001b[0m \u001b[31m987.5 kB/s\u001b[0m eta \u001b[36m0:00:00\u001b[0m00:01\u001b[0m00:01\u001b[0m\n",
      "\u001b[?25hDownloading numpy-1.26.2-cp311-cp311-macosx_11_0_arm64.whl (14.0 MB)\n",
      "\u001b[2K   \u001b[90m━━━━━━━━━━━━━━━━━━━━━━━━━━━━━━━━━━━━━━━━\u001b[0m \u001b[32m14.0/14.0 MB\u001b[0m \u001b[31m398.8 kB/s\u001b[0m eta \u001b[36m0:00:00\u001b[0m00:01\u001b[0m00:01\u001b[0m\n",
      "\u001b[?25hInstalling collected packages: numpy\n",
      "Successfully installed numpy-1.26.2\n"
     ]
    }
   ],
   "source": [
    "! pip install numpy"
   ]
  },
  {
   "cell_type": "code",
   "execution_count": 8,
   "metadata": {},
   "outputs": [
    {
     "name": "stdout",
     "output_type": "stream",
     "text": [
      "Package           Version\n",
      "----------------- ---------\n",
      "appnope           0.1.3\n",
      "asttokens         2.4.1\n",
      "certifi           2023.7.22\n",
      "comm              0.2.0\n",
      "debugpy           1.8.0\n",
      "decorator         5.1.1\n",
      "executing         2.0.1\n",
      "ipykernel         6.26.0\n",
      "ipython           8.17.2\n",
      "jedi              0.19.1\n",
      "jupyter_client    8.6.0\n",
      "jupyter_core      5.5.0\n",
      "matplotlib-inline 0.1.6\n",
      "nest-asyncio      1.5.8\n",
      "numpy             1.26.2\n",
      "packaging         23.2\n",
      "parso             0.8.3\n",
      "pexpect           4.8.0\n",
      "pip               23.3.1\n",
      "platformdirs      4.0.0\n",
      "prompt-toolkit    3.0.40\n",
      "psutil            5.9.6\n",
      "psycopg2-binary   2.9.9\n",
      "ptyprocess        0.7.0\n",
      "pure-eval         0.2.2\n",
      "Pygments          2.16.1\n",
      "python-dateutil   2.8.2\n",
      "pywatchman        1.4.1\n",
      "pyzmq             25.1.1\n",
      "setuptools        68.2.2\n",
      "six               1.16.0\n",
      "stack-data        0.6.3\n",
      "tornado           6.3.3\n",
      "traitlets         5.13.0\n",
      "wcwidth           0.2.9\n",
      "wheel             0.41.3\n"
     ]
    }
   ],
   "source": [
    "! pip list"
   ]
  },
  {
   "cell_type": "markdown",
   "metadata": {},
   "source": [
    "#### 2. ตัวอย่างการหาค่าเฉลี่ยด้วย numpy"
   ]
  },
  {
   "cell_type": "code",
   "execution_count": 11,
   "metadata": {},
   "outputs": [
    {
     "name": "stdout",
     "output_type": "stream",
     "text": [
      "89.76923076923077\n"
     ]
    }
   ],
   "source": [
    "import numpy as np\n",
    "\n",
    "speed = [99,86,87,88,111,86,103,87,94,78,77,85,86]\n",
    "\n",
    "# Mean - the average value (ค่าเฉลี่ย)\n",
    "x = np.mean(speed)\n",
    "print(x)"
   ]
  },
  {
   "cell_type": "markdown",
   "metadata": {},
   "source": [
    "#### 3.ตัวอย่างการหาค่ากลางด้วย numpy"
   ]
  },
  {
   "cell_type": "code",
   "execution_count": 12,
   "metadata": {},
   "outputs": [
    {
     "name": "stdout",
     "output_type": "stream",
     "text": [
      "87.0\n"
     ]
    }
   ],
   "source": [
    "# Median - the mid point value (ค่ากลาง)\n",
    "y = np.median(speed)\n",
    "print(y)"
   ]
  },
  {
   "cell_type": "markdown",
   "metadata": {},
   "source": [
    "#### 4.การหาค่าฐานนิยมด้วย numpy"
   ]
  },
  {
   "cell_type": "code",
   "execution_count": 14,
   "metadata": {},
   "outputs": [
    {
     "name": "stdout",
     "output_type": "stream",
     "text": [
      "Requirement already satisfied: scipy in /opt/homebrew/lib/python3.11/site-packages (1.11.3)\n",
      "Requirement already satisfied: numpy<1.28.0,>=1.21.6 in /opt/homebrew/lib/python3.11/site-packages (from scipy) (1.26.2)\n",
      "ModeResult(mode=86, count=3)\n"
     ]
    }
   ],
   "source": [
    "# ติดตั้ง scipy ก่อน\n",
    "! pip install scipy\n",
    "\n",
    "from scipy import stats\n",
    "\n",
    "# Mode - the most common value (ค่าที่พบบ่อยที่สุด)\n",
    "z = stats.mode(speed)\n",
    "print(z)"
   ]
  }
 ],
 "metadata": {
  "kernelspec": {
   "display_name": "Python 3",
   "language": "python",
   "name": "python3"
  },
  "language_info": {
   "codemirror_mode": {
    "name": "ipython",
    "version": 3
   },
   "file_extension": ".py",
   "mimetype": "text/x-python",
   "name": "python",
   "nbconvert_exporter": "python",
   "pygments_lexer": "ipython3",
   "version": "3.11.6"
  }
 },
 "nbformat": 4,
 "nbformat_minor": 2
}
