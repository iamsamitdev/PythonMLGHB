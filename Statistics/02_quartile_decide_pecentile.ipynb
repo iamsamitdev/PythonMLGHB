{
 "cells": [
  {
   "cell_type": "markdown",
   "metadata": {},
   "source": [
    "#### 1. Import Lib numpy"
   ]
  },
  {
   "cell_type": "code",
   "execution_count": 1,
   "metadata": {},
   "outputs": [],
   "source": [
    "import numpy as np"
   ]
  },
  {
   "cell_type": "markdown",
   "metadata": {},
   "source": [
    "#### 2.ตัวอย่างการหาค่า Quartile , Decide และ Percentile"
   ]
  },
  {
   "cell_type": "code",
   "execution_count": 3,
   "metadata": {},
   "outputs": [
    {
     "name": "stdout",
     "output_type": "stream",
     "text": [
      "Q1 = 32.5\n",
      "Q2 = 55.0\n",
      "Q3 = 77.5\n"
     ]
    }
   ],
   "source": [
    "data = np.array([10, 20, 30, 40, 50, 60, 70, 80, 90, 100])\n",
    "\n",
    "# หาค่า Q1 (25%), Q2 (50%), Q3 (75%)\n",
    "q1 = np.quantile(data, 0.25)\n",
    "q2 = np.quantile(data, 0.50)\n",
    "q3 = np.quantile(data, 0.75)\n",
    "print(\"Q1 =\", q1)\n",
    "print(\"Q2 =\", q2)\n",
    "print(\"Q3 =\", q3)"
   ]
  },
  {
   "cell_type": "code",
   "execution_count": 4,
   "metadata": {},
   "outputs": [
    {
     "name": "stdout",
     "output_type": "stream",
     "text": [
      "Decile 10 = 19.0\n",
      "Decile 20 = 28.0\n",
      "Decile 30 = 37.0\n",
      "Decile 40 = 46.0\n",
      "Decile 50 = 55.0\n",
      "Decile 60 = 63.99999999999999\n",
      "Decile 70 = 73.0\n",
      "Decile 80 = 82.0\n",
      "Decile 90 = 91.0\n"
     ]
    }
   ],
   "source": [
    "# หาค่า decile 10%, 20%, 30%, ..., 90%\n",
    "for i in range(1, 10):\n",
    "    print(\"Decile\", i*10, \"=\", np.quantile(data, i/10))"
   ]
  },
  {
   "cell_type": "code",
   "execution_count": 5,
   "metadata": {},
   "outputs": [
    {
     "name": "stdout",
     "output_type": "stream",
     "text": [
      "Percentile 1 = 10.9\n",
      "Percentile 2 = 11.8\n",
      "Percentile 3 = 12.7\n",
      "Percentile 4 = 13.6\n",
      "Percentile 5 = 14.5\n",
      "Percentile 6 = 15.4\n",
      "Percentile 7 = 16.3\n",
      "Percentile 8 = 17.2\n",
      "Percentile 9 = 18.099999999999998\n",
      "Percentile 10 = 19.0\n",
      "Percentile 11 = 19.9\n",
      "Percentile 12 = 20.8\n",
      "Percentile 13 = 21.7\n",
      "Percentile 14 = 22.6\n",
      "Percentile 15 = 23.5\n",
      "Percentile 16 = 24.4\n",
      "Percentile 17 = 25.3\n",
      "Percentile 18 = 26.2\n",
      "Percentile 19 = 27.1\n",
      "Percentile 20 = 28.0\n",
      "Percentile 21 = 28.9\n",
      "Percentile 22 = 29.8\n",
      "Percentile 23 = 30.700000000000003\n",
      "Percentile 24 = 31.6\n",
      "Percentile 25 = 32.5\n",
      "Percentile 26 = 33.4\n",
      "Percentile 27 = 34.300000000000004\n",
      "Percentile 28 = 35.2\n",
      "Percentile 29 = 36.1\n",
      "Percentile 30 = 37.0\n",
      "Percentile 31 = 37.9\n",
      "Percentile 32 = 38.8\n",
      "Percentile 33 = 39.7\n",
      "Percentile 34 = 40.6\n",
      "Percentile 35 = 41.5\n",
      "Percentile 36 = 42.4\n",
      "Percentile 37 = 43.3\n",
      "Percentile 38 = 44.2\n",
      "Percentile 39 = 45.1\n",
      "Percentile 40 = 46.0\n",
      "Percentile 41 = 46.9\n",
      "Percentile 42 = 47.8\n",
      "Percentile 43 = 48.7\n",
      "Percentile 44 = 49.6\n",
      "Percentile 45 = 50.5\n",
      "Percentile 46 = 51.400000000000006\n",
      "Percentile 47 = 52.3\n",
      "Percentile 48 = 53.2\n",
      "Percentile 49 = 54.1\n",
      "Percentile 50 = 55.0\n",
      "Percentile 51 = 55.9\n",
      "Percentile 52 = 56.8\n",
      "Percentile 53 = 57.7\n",
      "Percentile 54 = 58.6\n",
      "Percentile 55 = 59.5\n",
      "Percentile 56 = 60.400000000000006\n",
      "Percentile 57 = 61.3\n",
      "Percentile 58 = 62.199999999999996\n",
      "Percentile 59 = 63.099999999999994\n",
      "Percentile 60 = 63.99999999999999\n",
      "Percentile 61 = 64.9\n",
      "Percentile 62 = 65.8\n",
      "Percentile 63 = 66.7\n",
      "Percentile 64 = 67.6\n",
      "Percentile 65 = 68.5\n",
      "Percentile 66 = 69.4\n",
      "Percentile 67 = 70.3\n",
      "Percentile 68 = 71.2\n",
      "Percentile 69 = 72.1\n",
      "Percentile 70 = 73.0\n",
      "Percentile 71 = 73.89999999999999\n",
      "Percentile 72 = 74.8\n",
      "Percentile 73 = 75.7\n",
      "Percentile 74 = 76.6\n",
      "Percentile 75 = 77.5\n",
      "Percentile 76 = 78.4\n",
      "Percentile 77 = 79.3\n",
      "Percentile 78 = 80.2\n",
      "Percentile 79 = 81.10000000000001\n",
      "Percentile 80 = 82.0\n",
      "Percentile 81 = 82.9\n",
      "Percentile 82 = 83.8\n",
      "Percentile 83 = 84.7\n",
      "Percentile 84 = 85.6\n",
      "Percentile 85 = 86.5\n",
      "Percentile 86 = 87.4\n",
      "Percentile 87 = 88.3\n",
      "Percentile 88 = 89.2\n",
      "Percentile 89 = 90.1\n",
      "Percentile 90 = 91.0\n",
      "Percentile 91 = 91.89999999999999\n",
      "Percentile 92 = 92.80000000000001\n",
      "Percentile 93 = 93.70000000000002\n",
      "Percentile 94 = 94.6\n",
      "Percentile 95 = 95.49999999999999\n",
      "Percentile 96 = 96.4\n",
      "Percentile 97 = 97.30000000000001\n",
      "Percentile 98 = 98.2\n",
      "Percentile 99 = 99.1\n"
     ]
    }
   ],
   "source": [
    "# หาค่า percentile 1%, 2%, 3%, ..., 99%\n",
    "for i in range(1, 100):\n",
    "    print(\"Percentile\", i, \"=\", np.quantile(data, i/100))"
   ]
  }
 ],
 "metadata": {
  "kernelspec": {
   "display_name": "Python 3",
   "language": "python",
   "name": "python3"
  },
  "language_info": {
   "codemirror_mode": {
    "name": "ipython",
    "version": 3
   },
   "file_extension": ".py",
   "mimetype": "text/x-python",
   "name": "python",
   "nbconvert_exporter": "python",
   "pygments_lexer": "ipython3",
   "version": "3.11.6"
  }
 },
 "nbformat": 4,
 "nbformat_minor": 2
}
